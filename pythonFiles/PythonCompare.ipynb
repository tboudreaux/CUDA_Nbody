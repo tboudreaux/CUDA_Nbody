{
 "cells": [
  {
   "cell_type": "code",
   "execution_count": 1,
   "metadata": {},
   "outputs": [],
   "source": [
    "import numpy as np\n",
    "import matplotlib.pyplot as plt\n",
    "from mpl_toolkits.mplot3d import Axes3D\n",
    "from mplEasyAnimate import animation\n",
    "from tqdm import tqdm\n",
    "from scipy.special import comb\n",
    "from scipy.special import factorial\n",
    "from numba import jit"
   ]
  },
  {
   "cell_type": "code",
   "execution_count": 2,
   "metadata": {},
   "outputs": [],
   "source": [
    "G = 6.6e-11"
   ]
  },
  {
   "cell_type": "code",
   "execution_count": 96,
   "metadata": {},
   "outputs": [],
   "source": [
    "def rk4(f, y0, t, h, ID, pList):\n",
    "    k1 = h*f(y0, t, ID, pList)\n",
    "    k2 = h*f(y0+k1/2, t+(h/2), ID, pList)\n",
    "    k3 = h*f(y0+k2/2, t+(h/2), ID,pList)\n",
    "    k4 = h*f(y0+k3, t+h, ID, pList)\n",
    "#     print('K1: ', k1)\n",
    "#     print('Y1: ', y0+k1/2)\n",
    "#     print('---------')\n",
    "#     print('K2: ', k2)\n",
    "#     print('Y2: ', y0+k2/2)\n",
    "#     print('---------')\n",
    "#     print('K3: ', k3)\n",
    "#     print('Y3: ', y0+k3)\n",
    "#     print('---------')\n",
    "#     print('K4: ', k4)\n",
    "#     print('============')\n",
    "    if ID == 1:\n",
    "        raise TypeError()\n",
    "    return y0 + (k1/6)+(k2/3)+(k3/3)+(k4/6)"
   ]
  },
  {
   "cell_type": "code",
   "execution_count": 97,
   "metadata": {},
   "outputs": [],
   "source": [
    "def nbody(I0, t, ID, pList):\n",
    "    dydt = np.zeros(7)\n",
    "    dydt[:3] = I0[3:6]\n",
    "    m = I0[6]\n",
    "    \n",
    "    for i, particle in enumerate(pList):\n",
    "        if ID != i:\n",
    "            r = particle[:3] - I0[:3]\n",
    "            rmag = np.sqrt(sum([x**2 for x in r]))\n",
    "            if rmag > 0.5:\n",
    "                rhat = r/rmag\n",
    "                AMag = (G*particle[6])/((rmag)**2)\n",
    "                dydt[3:6] += AMag*rhat\n",
    "                if ID == 1:\n",
    "                    print(\"Force From Model is: \", dydt)\n",
    "                    print(\"Rmag is: \", rmag)\n",
    "                    print(\"Rmag^2 is: \", rmag*rmag)\n",
    "                    print('Mass is: ', particle[6])\n",
    "                    print(\"G is: \", G)\n",
    "                    print(\"Rhat is: \", rhat)\n",
    "                    print(\"================\")\n",
    "\n",
    "    return dydt"
   ]
  },
  {
   "cell_type": "code",
   "execution_count": 98,
   "metadata": {},
   "outputs": [],
   "source": [
    "def int_n_model(model, method, y0, h, t0=0, tf=1):\n",
    "    ts = np.arange(t0, tf, h)\n",
    "    ys = np.zeros(shape=(len(ts)+1, y0.shape[0], y0.shape[1]))\n",
    "    ys[0] = y0\n",
    "    for i, t in tqdm(enumerate(ts), total=len(ts)):\n",
    "        for ID, particle in enumerate(ys[i]):\n",
    "            ys[i+1][ID] = method(model, particle, t, h, ID, ys[i])\n",
    "    return np.arange(t0, tf+h, h), ys"
   ]
  },
  {
   "cell_type": "code",
   "execution_count": 99,
   "metadata": {},
   "outputs": [],
   "source": [
    "pos = np.array([[149.6e9, 0, 0], [0, 0, 0]])\n",
    "vel = np.array([[0, 30000, 0], [0, 0, 0]])\n",
    "mass = np.array([[6e24], [2e30]])\n",
    "init = np.hstack((pos, vel, mass))"
   ]
  },
  {
   "cell_type": "code",
   "execution_count": 100,
   "metadata": {},
   "outputs": [
    {
     "name": "stderr",
     "output_type": "stream",
     "text": [
      "  0%|          | 0/1091 [00:00<?, ?it/s]"
     ]
    },
    {
     "name": "stdout",
     "output_type": "stream",
     "text": [
      "Force From Model is:  [0.00000000e+00 0.00000000e+00 0.00000000e+00 1.76942435e-08\n",
      " 0.00000000e+00 0.00000000e+00 0.00000000e+00]\n",
      "Rmag is:  149600000000.0\n",
      "Rmag^2 is:  2.238016e+22\n",
      "Mass is:  6e+24\n",
      "G is:  6.6e-11\n",
      "Rhat is:  [1. 0. 0.]\n",
      "================\n",
      "Force From Model is:  [7.64391318e-04 0.00000000e+00 0.00000000e+00 1.76942435e-08\n",
      " 0.00000000e+00 0.00000000e+00 0.00000000e+00]\n",
      "Rmag is:  149600000000.0\n",
      "Rmag^2 is:  2.238016e+22\n",
      "Mass is:  6e+24\n",
      "G is:  6.6e-11\n",
      "Rhat is:  [1. 0. 0.]\n",
      "================\n",
      "Force From Model is:  [7.64391318e-04 0.00000000e+00 0.00000000e+00 1.76942435e-08\n",
      " 0.00000000e+00 0.00000000e+00 0.00000000e+00]\n",
      "Rmag is:  149599999966.9783\n",
      "Rmag^2 is:  2.2380159990119906e+22\n",
      "Mass is:  6e+24\n",
      "G is:  6.6e-11\n",
      "Rhat is:  [1. 0. 0.]\n",
      "================\n",
      "Force From Model is:  [1.52878264e-03 0.00000000e+00 0.00000000e+00 1.76942435e-08\n",
      " 0.00000000e+00 0.00000000e+00 0.00000000e+00]\n",
      "Rmag is:  149599999933.9566\n",
      "Rmag^2 is:  2.2380159980239816e+22\n",
      "Mass is:  6e+24\n",
      "G is:  6.6e-11\n",
      "Rhat is:  [1. 0. 0.]\n",
      "================\n"
     ]
    },
    {
     "name": "stderr",
     "output_type": "stream",
     "text": [
      "\n"
     ]
    },
    {
     "ename": "TypeError",
     "evalue": "",
     "output_type": "error",
     "traceback": [
      "\u001b[0;31m---------------------------------------------------------------------------\u001b[0m",
      "\u001b[0;31mTypeError\u001b[0m                                 Traceback (most recent call last)",
      "\u001b[0;32m<ipython-input-100-471b89f6fbc3>\u001b[0m in \u001b[0;36m<module>\u001b[0;34m()\u001b[0m\n\u001b[0;32m----> 1\u001b[0;31m \u001b[0mts\u001b[0m\u001b[0;34m,\u001b[0m \u001b[0mys\u001b[0m \u001b[0;34m=\u001b[0m \u001b[0mint_n_model\u001b[0m\u001b[0;34m(\u001b[0m\u001b[0mnbody\u001b[0m\u001b[0;34m,\u001b[0m \u001b[0mrk4\u001b[0m\u001b[0;34m,\u001b[0m \u001b[0minit\u001b[0m\u001b[0;34m,\u001b[0m \u001b[0;36m86400\u001b[0m\u001b[0;34m,\u001b[0m \u001b[0mtf\u001b[0m\u001b[0;34m=\u001b[0m\u001b[0;36m3\u001b[0m\u001b[0;34m*\u001b[0m\u001b[0mnp\u001b[0m\u001b[0;34m.\u001b[0m\u001b[0mpi\u001b[0m\u001b[0;34m*\u001b[0m\u001b[0;36m1e7\u001b[0m\u001b[0;34m)\u001b[0m\u001b[0;34m\u001b[0m\u001b[0m\n\u001b[0m",
      "\u001b[0;32m<ipython-input-98-7fd171c2fb22>\u001b[0m in \u001b[0;36mint_n_model\u001b[0;34m(model, method, y0, h, t0, tf)\u001b[0m\n\u001b[1;32m      5\u001b[0m     \u001b[0;32mfor\u001b[0m \u001b[0mi\u001b[0m\u001b[0;34m,\u001b[0m \u001b[0mt\u001b[0m \u001b[0;32min\u001b[0m \u001b[0mtqdm\u001b[0m\u001b[0;34m(\u001b[0m\u001b[0menumerate\u001b[0m\u001b[0;34m(\u001b[0m\u001b[0mts\u001b[0m\u001b[0;34m)\u001b[0m\u001b[0;34m,\u001b[0m \u001b[0mtotal\u001b[0m\u001b[0;34m=\u001b[0m\u001b[0mlen\u001b[0m\u001b[0;34m(\u001b[0m\u001b[0mts\u001b[0m\u001b[0;34m)\u001b[0m\u001b[0;34m)\u001b[0m\u001b[0;34m:\u001b[0m\u001b[0;34m\u001b[0m\u001b[0m\n\u001b[1;32m      6\u001b[0m         \u001b[0;32mfor\u001b[0m \u001b[0mID\u001b[0m\u001b[0;34m,\u001b[0m \u001b[0mparticle\u001b[0m \u001b[0;32min\u001b[0m \u001b[0menumerate\u001b[0m\u001b[0;34m(\u001b[0m\u001b[0mys\u001b[0m\u001b[0;34m[\u001b[0m\u001b[0mi\u001b[0m\u001b[0;34m]\u001b[0m\u001b[0;34m)\u001b[0m\u001b[0;34m:\u001b[0m\u001b[0;34m\u001b[0m\u001b[0m\n\u001b[0;32m----> 7\u001b[0;31m             \u001b[0mys\u001b[0m\u001b[0;34m[\u001b[0m\u001b[0mi\u001b[0m\u001b[0;34m+\u001b[0m\u001b[0;36m1\u001b[0m\u001b[0;34m]\u001b[0m\u001b[0;34m[\u001b[0m\u001b[0mID\u001b[0m\u001b[0;34m]\u001b[0m \u001b[0;34m=\u001b[0m \u001b[0mmethod\u001b[0m\u001b[0;34m(\u001b[0m\u001b[0mmodel\u001b[0m\u001b[0;34m,\u001b[0m \u001b[0mparticle\u001b[0m\u001b[0;34m,\u001b[0m \u001b[0mt\u001b[0m\u001b[0;34m,\u001b[0m \u001b[0mh\u001b[0m\u001b[0;34m,\u001b[0m \u001b[0mID\u001b[0m\u001b[0;34m,\u001b[0m \u001b[0mys\u001b[0m\u001b[0;34m[\u001b[0m\u001b[0mi\u001b[0m\u001b[0;34m]\u001b[0m\u001b[0;34m)\u001b[0m\u001b[0;34m\u001b[0m\u001b[0m\n\u001b[0m\u001b[1;32m      8\u001b[0m     \u001b[0;32mreturn\u001b[0m \u001b[0mnp\u001b[0m\u001b[0;34m.\u001b[0m\u001b[0marange\u001b[0m\u001b[0;34m(\u001b[0m\u001b[0mt0\u001b[0m\u001b[0;34m,\u001b[0m \u001b[0mtf\u001b[0m\u001b[0;34m+\u001b[0m\u001b[0mh\u001b[0m\u001b[0;34m,\u001b[0m \u001b[0mh\u001b[0m\u001b[0;34m)\u001b[0m\u001b[0;34m,\u001b[0m \u001b[0mys\u001b[0m\u001b[0;34m\u001b[0m\u001b[0m\n",
      "\u001b[0;32m<ipython-input-96-d67cd16e7ad0>\u001b[0m in \u001b[0;36mrk4\u001b[0;34m(f, y0, t, h, ID, pList)\u001b[0m\n\u001b[1;32m     16\u001b[0m \u001b[0;31m#     print('============')\u001b[0m\u001b[0;34m\u001b[0m\u001b[0;34m\u001b[0m\u001b[0m\n\u001b[1;32m     17\u001b[0m     \u001b[0;32mif\u001b[0m \u001b[0mID\u001b[0m \u001b[0;34m==\u001b[0m \u001b[0;36m1\u001b[0m\u001b[0;34m:\u001b[0m\u001b[0;34m\u001b[0m\u001b[0m\n\u001b[0;32m---> 18\u001b[0;31m         \u001b[0;32mraise\u001b[0m \u001b[0mTypeError\u001b[0m\u001b[0;34m(\u001b[0m\u001b[0;34m)\u001b[0m\u001b[0;34m\u001b[0m\u001b[0m\n\u001b[0m\u001b[1;32m     19\u001b[0m     \u001b[0;32mreturn\u001b[0m \u001b[0my0\u001b[0m \u001b[0;34m+\u001b[0m \u001b[0;34m(\u001b[0m\u001b[0mk1\u001b[0m\u001b[0;34m/\u001b[0m\u001b[0;36m6\u001b[0m\u001b[0;34m)\u001b[0m\u001b[0;34m+\u001b[0m\u001b[0;34m(\u001b[0m\u001b[0mk2\u001b[0m\u001b[0;34m/\u001b[0m\u001b[0;36m3\u001b[0m\u001b[0;34m)\u001b[0m\u001b[0;34m+\u001b[0m\u001b[0;34m(\u001b[0m\u001b[0mk3\u001b[0m\u001b[0;34m/\u001b[0m\u001b[0;36m3\u001b[0m\u001b[0;34m)\u001b[0m\u001b[0;34m+\u001b[0m\u001b[0;34m(\u001b[0m\u001b[0mk4\u001b[0m\u001b[0;34m/\u001b[0m\u001b[0;36m6\u001b[0m\u001b[0;34m)\u001b[0m\u001b[0;34m\u001b[0m\u001b[0m\n",
      "\u001b[0;31mTypeError\u001b[0m: "
     ]
    }
   ],
   "source": [
    "ts, ys = int_n_model(nbody, rk4, init, 86400, tf=3*np.pi*1e7)"
   ]
  },
  {
   "cell_type": "code",
   "execution_count": 95,
   "metadata": {},
   "outputs": [
    {
     "data": {
      "text/plain": [
       "(1092, 2, 7)"
      ]
     },
     "execution_count": 95,
     "metadata": {},
     "output_type": "execute_result"
    }
   ],
   "source": [
    "ys.shape"
   ]
  },
  {
   "cell_type": "code",
   "execution_count": 37,
   "metadata": {},
   "outputs": [
    {
     "data": {
      "text/plain": [
       "[<matplotlib.lines.Line2D at 0x7fd4e170e208>]"
      ]
     },
     "execution_count": 37,
     "metadata": {},
     "output_type": "execute_result"
    },
    {
     "data": {
      "image/png": "[encoded data removed]",
      "text/plain": [
       "<Figure size 432x288 with 1 Axes>"
      ]
     },
     "metadata": {
      "image/png": {
       "height": 276,
       "width": 378
      },
      "needs_background": "light"
     },
     "output_type": "display_data"
    }
   ],
   "source": [
    "plt.plot(ys[:, 0, 0], ys[:, 0, 1])"
   ]
  },
  {
   "cell_type": "code",
   "execution_count": 101,
   "metadata": {},
   "outputs": [
    {
     "data": {
      "text/plain": [
       "1.769421184797276e-08"
      ]
     },
     "execution_count": 101,
     "metadata": {},
     "output_type": "execute_result"
    }
   ],
   "source": [
    "(6.6e-11*6e+24)/2.23802e+22"
   ]
  },
  {
   "cell_type": "code",
   "execution_count": null,
   "metadata": {},
   "outputs": [],
   "source": []
  }
 ],
 "metadata": {
  "kernelspec": {
   "display_name": "computationalPhysics",
   "language": "python",
   "name": "conda-env-computationalPhysics-py"
  },
  "language_info": {
   "codemirror_mode": {
    "name": "ipython",
    "version": 3
   },
   "file_extension": ".py",
   "mimetype": "text/x-python",
   "name": "python",
   "nbconvert_exporter": "python",
   "pygments_lexer": "ipython3",
   "version": "3.7.0"
  }
 },
 "nbformat": 4,
 "nbformat_minor": 2
}
